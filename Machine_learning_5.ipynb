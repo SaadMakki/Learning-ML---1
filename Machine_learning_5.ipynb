{
 "cells": [
  {
   "cell_type": "markdown",
   "metadata": {},
   "source": [
    "## In this we are gonna write our very own classifier"
   ]
  },
  {
   "cell_type": "markdown",
   "metadata": {},
   "source": [
    "### creating my very own classifier"
   ]
  },
  {
   "cell_type": "code",
   "execution_count": 201,
   "metadata": {},
   "outputs": [],
   "source": [
    "import random as rn\n",
    "from scipy.spatial.distance import euclidean\n",
    "\n",
    "class ScrappyKNN:\n",
    "    ## this function is just for calculating the distance between two points where we are given x1, y1 and x2, y2\n",
    "    # because our dataset from iris is in 2d\n",
    "    def euc(a,b):\n",
    "        return euclidean(a,b)\n",
    "\n",
    "    def fit(self, X_train, y_train):\n",
    "        self.X_train = X_train\n",
    "        self.y_train = y_train\n",
    "\n",
    "    def predict (self,  X_test):\n",
    "        ## for the first try i am gonna make a simple predict that will guess random labels from y_train and then # assign them to the x_train. the accuracy is gonna be really low.\n",
    "\n",
    "        ## for the second try i am gonna try to find the nearest point near our testing point and then assign it # a label.\n",
    "        \n",
    "        prediction = []\n",
    "        for row in X_test:\n",
    "            # label = rn.choice(self.y_train)\n",
    "            label = self.closest(row)\n",
    "            prediction.append(label)\n",
    "        return prediction\n",
    "    \n",
    "    def closest (self, row):\n",
    "        best_distance = euclidean(row, self.X_train[0])\n",
    "        best_index = 0\n",
    "        for i in range (1, len(self.X_train)):\n",
    "            distance = euclidean(row, self.X_train[i])\n",
    "            if distance < best_distance:\n",
    "                best_distance = distance\n",
    "                best_index = i\n",
    "        return self.y_train[best_index]"
   ]
  },
  {
   "cell_type": "markdown",
   "metadata": {},
   "source": [
    "### Importing Iris dataset in to the iris instance"
   ]
  },
  {
   "cell_type": "code",
   "execution_count": 202,
   "metadata": {},
   "outputs": [],
   "source": [
    "from sklearn import datasets\n",
    "iris = datasets.load_iris()\n",
    "\n",
    "X = iris.data\n",
    "y = iris.target"
   ]
  },
  {
   "cell_type": "markdown",
   "metadata": {},
   "source": [
    "### Splitting dataset into train data and test data "
   ]
  },
  {
   "cell_type": "code",
   "execution_count": 203,
   "metadata": {},
   "outputs": [],
   "source": [
    "from sklearn.model_selection import train_test_split\n",
    "X_train, X_test, y_train, y_test = train_test_split(X,y, test_size = 0.5)"
   ]
  },
  {
   "cell_type": "markdown",
   "metadata": {},
   "source": [
    "### using the Sk-Learn built in tree classifier"
   ]
  },
  {
   "cell_type": "code",
   "execution_count": 204,
   "metadata": {},
   "outputs": [],
   "source": [
    "from sklearn import tree\n",
    "\n",
    "sklearn_classifier = tree.DecisionTreeClassifier()\n",
    "sklearn_classifier.fit(X_train, y_train)\n",
    "sklearn_classifier_prediction = sklearn_classifier.predict(X_test)"
   ]
  },
  {
   "cell_type": "markdown",
   "metadata": {},
   "source": [
    "### Now using my own classifier "
   ]
  },
  {
   "cell_type": "code",
   "execution_count": 205,
   "metadata": {},
   "outputs": [],
   "source": [
    "my_classifier = ScrappyKNN()\n",
    "my_classifier.fit(X_train, y_train)\n",
    "my_classifier_prediction = my_classifier.predict(X_test)"
   ]
  },
  {
   "cell_type": "markdown",
   "metadata": {},
   "source": [
    "### Testing the Accuracy of both"
   ]
  },
  {
   "cell_type": "code",
   "execution_count": 206,
   "metadata": {},
   "outputs": [
    {
     "name": "stdout",
     "output_type": "stream",
     "text": [
      "Accuracy score form the Sklearn tree classifier\t:\t96.0\n",
      "Accuracy score form my classifier\t:\t97.33333333333334\n"
     ]
    }
   ],
   "source": [
    "from sklearn.metrics import accuracy_score \n",
    "print(\n",
    "    f'Accuracy score form the Sklearn tree classifier\\t:\\t{\n",
    "    100 * accuracy_score(y_test, sklearn_classifier_prediction)}'\n",
    "    )\n",
    "print(\n",
    "    f'Accuracy score form my classifier\\t:\\t{\n",
    "    100 * accuracy_score(y_test, my_classifier_prediction)}'\n",
    "    )"
   ]
  }
 ],
 "metadata": {
  "kernelspec": {
   "display_name": "myevn",
   "language": "python",
   "name": "python3"
  },
  "language_info": {
   "codemirror_mode": {
    "name": "ipython",
    "version": 3
   },
   "file_extension": ".py",
   "mimetype": "text/x-python",
   "name": "python",
   "nbconvert_exporter": "python",
   "pygments_lexer": "ipython3",
   "version": "3.13.2"
  }
 },
 "nbformat": 4,
 "nbformat_minor": 2
}
