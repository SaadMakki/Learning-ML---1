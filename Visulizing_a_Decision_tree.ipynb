{
 "cells": [
  {
   "cell_type": "markdown",
   "metadata": {},
   "source": [
    "# Goals\n",
    "1. Import a dataset\n",
    "2. Train a Classifier\n",
    "3. Predict labe for new flower\n",
    "4. Visualize the Tree"
   ]
  },
  {
   "cell_type": "markdown",
   "metadata": {},
   "source": [
    "### Importing a Dataset\n",
    "for this i am gonna use the built in dataset with sk-learn."
   ]
  },
  {
   "cell_type": "code",
   "execution_count": null,
   "metadata": {},
   "outputs": [],
   "source": [
    "from sklearn.datasets import load_iris"
   ]
  },
  {
   "cell_type": "code",
   "execution_count": null,
   "metadata": {},
   "outputs": [],
   "source": [
    "iris = load_iris()\n",
    "print(iris.feature_names)"
   ]
  },
  {
   "cell_type": "code",
   "execution_count": null,
   "metadata": {},
   "outputs": [],
   "source": [
    "print(iris.data[0])"
   ]
  },
  {
   "cell_type": "code",
   "execution_count": 15,
   "metadata": {},
   "outputs": [
    {
     "name": "stdout",
     "output_type": "stream",
     "text": [
      "['setosa' 'versicolor' 'virginica']\n"
     ]
    }
   ],
   "source": [
    "print(iris.target_names)"
   ]
  },
  {
   "cell_type": "code",
   "execution_count": null,
   "metadata": {},
   "outputs": [],
   "source": [
    "for i in range(len(iris.target)):\n",
    "    print (f\"Example{i} : Label{iris.target[i]}, Feature{iris.data[i]}\")"
   ]
  },
  {
   "cell_type": "markdown",
   "metadata": {},
   "source": [
    "### Training a Classifier"
   ]
  },
  {
   "cell_type": "markdown",
   "metadata": {},
   "source": [
    "First i am gonna divide the training data in to 2 parts:\n",
    "1. The data that will be used to train the classifier\n",
    "2. the data that will be used to test the classifier"
   ]
  },
  {
   "cell_type": "code",
   "execution_count": 14,
   "metadata": {},
   "outputs": [],
   "source": [
    "import numpy as np"
   ]
  },
  {
   "cell_type": "markdown",
   "metadata": {},
   "source": [
    "#### Training data\n",
    "* the Setosa is at the index 0\n",
    "* the versicolor is at the index 50\n",
    "* the Virginica is at the index 100"
   ]
  },
  {
   "cell_type": "code",
   "execution_count": 16,
   "metadata": {},
   "outputs": [],
   "source": [
    "test_idx = [0,50,100]\n",
    "train_target = np.delete(iris.target, test_idx)\n",
    "train_data = np.delete(iris.data, test_idx)"
   ]
  },
  {
   "cell_type": "markdown",
   "metadata": {},
   "source": [
    "#### Testing Data"
   ]
  },
  {
   "cell_type": "code",
   "execution_count": 17,
   "metadata": {},
   "outputs": [],
   "source": [
    "Test_target = iris.target[test_idx]\n",
    "Test_data = iris.data[test_idx]"
   ]
  },
  {
   "cell_type": "code",
   "execution_count": 24,
   "metadata": {},
   "outputs": [
    {
     "name": "stdout",
     "output_type": "stream",
     "text": [
      "[[5.1 3.5 1.4 0.2]\n",
      " [7.  3.2 4.7 1.4]\n",
      " [6.3 3.3 6.  2.5]]\n"
     ]
    }
   ],
   "source": [
    "print(Test_data)"
   ]
  },
  {
   "cell_type": "markdown",
   "metadata": {},
   "source": [
    "### Predicting label for new Flower"
   ]
  },
  {
   "cell_type": "code",
   "execution_count": 18,
   "metadata": {},
   "outputs": [],
   "source": [
    "from sklearn import tree"
   ]
  },
  {
   "cell_type": "code",
   "execution_count": 25,
   "metadata": {},
   "outputs": [
    {
     "ename": "ValueError",
     "evalue": "Expected 2D array, got 1D array instead:\narray=[3.5 1.4 0.2 4.9 3.  1.4 0.2 4.7 3.2 1.3 0.2 4.6 3.1 1.5 0.2 5.  3.6 1.4\n 0.2 5.4 3.9 1.7 0.4 4.6 3.4 1.4 0.3 5.  3.4 1.5 0.2 4.4 2.9 1.4 0.2 4.9\n 3.1 1.5 0.1 5.4 3.7 1.5 0.2 4.8 3.4 1.6 0.2 4.8 3.  0.1 4.3 3.  1.1 0.1\n 5.8 4.  1.2 0.2 5.7 4.4 1.5 0.4 5.4 3.9 1.3 0.4 5.1 3.5 1.4 0.3 5.7 3.8\n 1.7 0.3 5.1 3.8 1.5 0.3 5.4 3.4 1.7 0.2 5.1 3.7 1.5 0.4 4.6 3.6 1.  0.2\n 5.1 3.3 1.7 0.5 4.8 3.4 1.9 0.2 3.  1.6 0.2 5.  3.4 1.6 0.4 5.2 3.5 1.5\n 0.2 5.2 3.4 1.4 0.2 4.7 3.2 1.6 0.2 4.8 3.1 1.6 0.2 5.4 3.4 1.5 0.4 5.2\n 4.1 1.5 0.1 5.5 4.2 1.4 0.2 4.9 3.1 1.5 0.2 5.  3.2 1.2 0.2 5.5 3.5 1.3\n 0.2 4.9 3.6 1.4 0.1 4.4 3.  1.3 0.2 5.1 3.4 1.5 0.2 5.  3.5 1.3 0.3 4.5\n 2.3 1.3 0.3 4.4 3.2 1.3 0.2 5.  3.5 1.6 0.6 5.1 3.8 1.9 0.4 4.8 3.  1.4\n 0.3 5.1 3.8 1.6 0.2 4.6 3.2 1.4 0.2 5.3 3.7 1.5 0.2 5.  3.3 1.4 0.2 7.\n 3.2 4.7 1.4 6.4 3.2 4.5 1.5 6.9 3.1 4.9 1.5 5.5 2.3 4.  1.3 6.5 2.8 4.6\n 1.5 5.7 2.8 4.5 1.3 6.3 3.3 4.7 1.6 4.9 2.4 3.3 1.  6.6 2.9 4.6 1.3 5.2\n 2.7 3.9 1.4 5.  2.  3.5 1.  5.9 3.  4.2 1.5 6.  2.2 4.  1.  6.1 2.9 4.7\n 1.4 5.6 2.9 3.6 1.3 6.7 3.1 4.4 1.4 5.6 3.  4.5 1.5 5.8 2.7 4.1 1.  6.2\n 2.2 4.5 1.5 5.6 2.5 3.9 1.1 5.9 3.2 4.8 1.8 6.1 2.8 4.  1.3 6.3 2.5 4.9\n 1.5 6.1 2.8 4.7 1.2 6.4 2.9 4.3 1.3 6.6 3.  4.4 1.4 6.8 2.8 4.8 1.4 6.7\n 3.  5.  1.7 6.  2.9 4.5 1.5 5.7 2.6 3.5 1.  5.5 2.4 3.8 1.1 5.5 2.4 3.7\n 1.  5.8 2.7 3.9 1.2 6.  2.7 5.1 1.6 5.4 3.  4.5 1.5 6.  3.4 4.5 1.6 6.7\n 3.1 4.7 1.5 6.3 2.3 4.4 1.3 5.6 3.  4.1 1.3 5.5 2.5 4.  1.3 5.5 2.6 4.4\n 1.2 6.1 3.  4.6 1.4 5.8 2.6 4.  1.2 5.  2.3 3.3 1.  5.6 2.7 4.2 1.3 5.7\n 3.  4.2 1.2 5.7 2.9 4.2 1.3 6.2 2.9 4.3 1.3 5.1 2.5 3.  1.1 5.7 2.8 4.1\n 1.3 6.3 3.3 6.  2.5 5.8 2.7 5.1 1.9 7.1 3.  5.9 2.1 6.3 2.9 5.6 1.8 6.5\n 3.  5.8 2.2 7.6 3.  6.6 2.1 4.9 2.5 4.5 1.7 7.3 2.9 6.3 1.8 6.7 2.5 5.8\n 1.8 7.2 3.6 6.1 2.5 6.5 3.2 5.1 2.  6.4 2.7 5.3 1.9 6.8 3.  5.5 2.1 5.7\n 2.5 5.  2.  5.8 2.8 5.1 2.4 6.4 3.2 5.3 2.3 6.5 3.  5.5 1.8 7.7 3.8 6.7\n 2.2 7.7 2.6 6.9 2.3 6.  2.2 5.  1.5 6.9 3.2 5.7 2.3 5.6 2.8 4.9 2.  7.7\n 2.8 6.7 2.  6.3 2.7 4.9 1.8 6.7 3.3 5.7 2.1 7.2 3.2 6.  1.8 6.2 2.8 4.8\n 1.8 6.1 3.  4.9 1.8 6.4 2.8 5.6 2.1 7.2 3.  5.8 1.6 7.4 2.8 6.1 1.9 7.9\n 3.8 6.4 2.  6.4 2.8 5.6 2.2 6.3 2.8 5.1 1.5 6.1 2.6 5.6 1.4 7.7 3.  6.1\n 2.3 6.3 3.4 5.6 2.4 6.4 3.1 5.5 1.8 6.  3.  4.8 1.8 6.9 3.1 5.4 2.1 6.7\n 3.1 5.6 2.4 6.9 3.1 5.1 2.3 5.8 2.7 5.1 1.9 6.8 3.2 5.9 2.3 6.7 3.3 5.7\n 2.5 6.7 3.  5.2 2.3 6.3 2.5 5.  1.9 6.5 3.  5.2 2.  6.2 3.4 5.4 2.3 5.9\n 3.  5.1 1.8].\nReshape your data either using array.reshape(-1, 1) if your data has a single feature or array.reshape(1, -1) if it contains a single sample.",
     "output_type": "error",
     "traceback": [
      "\u001b[31m---------------------------------------------------------------------------\u001b[39m",
      "\u001b[31mValueError\u001b[39m                                Traceback (most recent call last)",
      "\u001b[36mCell\u001b[39m\u001b[36m \u001b[39m\u001b[32mIn[25]\u001b[39m\u001b[32m, line 2\u001b[39m\n\u001b[32m      1\u001b[39m clf = tree.DecisionTreeClassifier()\n\u001b[32m----> \u001b[39m\u001b[32m2\u001b[39m \u001b[43mclf\u001b[49m\u001b[43m.\u001b[49m\u001b[43mfit\u001b[49m\u001b[43m(\u001b[49m\u001b[43mtrain_data\u001b[49m\u001b[43m,\u001b[49m\u001b[43m \u001b[49m\u001b[43mtrain_target\u001b[49m\u001b[43m)\u001b[49m\n",
      "\u001b[36mFile \u001b[39m\u001b[32m~/Developer/Python/Learning/Learning-ML---1/myevn/lib/python3.13/site-packages/sklearn/base.py:1389\u001b[39m, in \u001b[36m_fit_context.<locals>.decorator.<locals>.wrapper\u001b[39m\u001b[34m(estimator, *args, **kwargs)\u001b[39m\n\u001b[32m   1382\u001b[39m     estimator._validate_params()\n\u001b[32m   1384\u001b[39m \u001b[38;5;28;01mwith\u001b[39;00m config_context(\n\u001b[32m   1385\u001b[39m     skip_parameter_validation=(\n\u001b[32m   1386\u001b[39m         prefer_skip_nested_validation \u001b[38;5;129;01mor\u001b[39;00m global_skip_validation\n\u001b[32m   1387\u001b[39m     )\n\u001b[32m   1388\u001b[39m ):\n\u001b[32m-> \u001b[39m\u001b[32m1389\u001b[39m     \u001b[38;5;28;01mreturn\u001b[39;00m \u001b[43mfit_method\u001b[49m\u001b[43m(\u001b[49m\u001b[43mestimator\u001b[49m\u001b[43m,\u001b[49m\u001b[43m \u001b[49m\u001b[43m*\u001b[49m\u001b[43margs\u001b[49m\u001b[43m,\u001b[49m\u001b[43m \u001b[49m\u001b[43m*\u001b[49m\u001b[43m*\u001b[49m\u001b[43mkwargs\u001b[49m\u001b[43m)\u001b[49m\n",
      "\u001b[36mFile \u001b[39m\u001b[32m~/Developer/Python/Learning/Learning-ML---1/myevn/lib/python3.13/site-packages/sklearn/tree/_classes.py:1024\u001b[39m, in \u001b[36mDecisionTreeClassifier.fit\u001b[39m\u001b[34m(self, X, y, sample_weight, check_input)\u001b[39m\n\u001b[32m    993\u001b[39m \u001b[38;5;129m@_fit_context\u001b[39m(prefer_skip_nested_validation=\u001b[38;5;28;01mTrue\u001b[39;00m)\n\u001b[32m    994\u001b[39m \u001b[38;5;28;01mdef\u001b[39;00m\u001b[38;5;250m \u001b[39m\u001b[34mfit\u001b[39m(\u001b[38;5;28mself\u001b[39m, X, y, sample_weight=\u001b[38;5;28;01mNone\u001b[39;00m, check_input=\u001b[38;5;28;01mTrue\u001b[39;00m):\n\u001b[32m    995\u001b[39m \u001b[38;5;250m    \u001b[39m\u001b[33;03m\"\"\"Build a decision tree classifier from the training set (X, y).\u001b[39;00m\n\u001b[32m    996\u001b[39m \n\u001b[32m    997\u001b[39m \u001b[33;03m    Parameters\u001b[39;00m\n\u001b[32m   (...)\u001b[39m\u001b[32m   1021\u001b[39m \u001b[33;03m        Fitted estimator.\u001b[39;00m\n\u001b[32m   1022\u001b[39m \u001b[33;03m    \"\"\"\u001b[39;00m\n\u001b[32m-> \u001b[39m\u001b[32m1024\u001b[39m     \u001b[38;5;28;43msuper\u001b[39;49m\u001b[43m(\u001b[49m\u001b[43m)\u001b[49m\u001b[43m.\u001b[49m\u001b[43m_fit\u001b[49m\u001b[43m(\u001b[49m\n\u001b[32m   1025\u001b[39m \u001b[43m        \u001b[49m\u001b[43mX\u001b[49m\u001b[43m,\u001b[49m\n\u001b[32m   1026\u001b[39m \u001b[43m        \u001b[49m\u001b[43my\u001b[49m\u001b[43m,\u001b[49m\n\u001b[32m   1027\u001b[39m \u001b[43m        \u001b[49m\u001b[43msample_weight\u001b[49m\u001b[43m=\u001b[49m\u001b[43msample_weight\u001b[49m\u001b[43m,\u001b[49m\n\u001b[32m   1028\u001b[39m \u001b[43m        \u001b[49m\u001b[43mcheck_input\u001b[49m\u001b[43m=\u001b[49m\u001b[43mcheck_input\u001b[49m\u001b[43m,\u001b[49m\n\u001b[32m   1029\u001b[39m \u001b[43m    \u001b[49m\u001b[43m)\u001b[49m\n\u001b[32m   1030\u001b[39m     \u001b[38;5;28;01mreturn\u001b[39;00m \u001b[38;5;28mself\u001b[39m\n",
      "\u001b[36mFile \u001b[39m\u001b[32m~/Developer/Python/Learning/Learning-ML---1/myevn/lib/python3.13/site-packages/sklearn/tree/_classes.py:252\u001b[39m, in \u001b[36mBaseDecisionTree._fit\u001b[39m\u001b[34m(self, X, y, sample_weight, check_input, missing_values_in_feature_mask)\u001b[39m\n\u001b[32m    248\u001b[39m check_X_params = \u001b[38;5;28mdict\u001b[39m(\n\u001b[32m    249\u001b[39m     dtype=DTYPE, accept_sparse=\u001b[33m\"\u001b[39m\u001b[33mcsc\u001b[39m\u001b[33m\"\u001b[39m, ensure_all_finite=\u001b[38;5;28;01mFalse\u001b[39;00m\n\u001b[32m    250\u001b[39m )\n\u001b[32m    251\u001b[39m check_y_params = \u001b[38;5;28mdict\u001b[39m(ensure_2d=\u001b[38;5;28;01mFalse\u001b[39;00m, dtype=\u001b[38;5;28;01mNone\u001b[39;00m)\n\u001b[32m--> \u001b[39m\u001b[32m252\u001b[39m X, y = \u001b[43mvalidate_data\u001b[49m\u001b[43m(\u001b[49m\n\u001b[32m    253\u001b[39m \u001b[43m    \u001b[49m\u001b[38;5;28;43mself\u001b[39;49m\u001b[43m,\u001b[49m\u001b[43m \u001b[49m\u001b[43mX\u001b[49m\u001b[43m,\u001b[49m\u001b[43m \u001b[49m\u001b[43my\u001b[49m\u001b[43m,\u001b[49m\u001b[43m \u001b[49m\u001b[43mvalidate_separately\u001b[49m\u001b[43m=\u001b[49m\u001b[43m(\u001b[49m\u001b[43mcheck_X_params\u001b[49m\u001b[43m,\u001b[49m\u001b[43m \u001b[49m\u001b[43mcheck_y_params\u001b[49m\u001b[43m)\u001b[49m\n\u001b[32m    254\u001b[39m \u001b[43m\u001b[49m\u001b[43m)\u001b[49m\n\u001b[32m    256\u001b[39m missing_values_in_feature_mask = (\n\u001b[32m    257\u001b[39m     \u001b[38;5;28mself\u001b[39m._compute_missing_values_in_feature_mask(X)\n\u001b[32m    258\u001b[39m )\n\u001b[32m    259\u001b[39m \u001b[38;5;28;01mif\u001b[39;00m issparse(X):\n",
      "\u001b[36mFile \u001b[39m\u001b[32m~/Developer/Python/Learning/Learning-ML---1/myevn/lib/python3.13/site-packages/sklearn/utils/validation.py:2956\u001b[39m, in \u001b[36mvalidate_data\u001b[39m\u001b[34m(_estimator, X, y, reset, validate_separately, skip_check_array, **check_params)\u001b[39m\n\u001b[32m   2954\u001b[39m \u001b[38;5;28;01mif\u001b[39;00m \u001b[33m\"\u001b[39m\u001b[33mestimator\u001b[39m\u001b[33m\"\u001b[39m \u001b[38;5;129;01mnot\u001b[39;00m \u001b[38;5;129;01min\u001b[39;00m check_X_params:\n\u001b[32m   2955\u001b[39m     check_X_params = {**default_check_params, **check_X_params}\n\u001b[32m-> \u001b[39m\u001b[32m2956\u001b[39m X = \u001b[43mcheck_array\u001b[49m\u001b[43m(\u001b[49m\u001b[43mX\u001b[49m\u001b[43m,\u001b[49m\u001b[43m \u001b[49m\u001b[43minput_name\u001b[49m\u001b[43m=\u001b[49m\u001b[33;43m\"\u001b[39;49m\u001b[33;43mX\u001b[39;49m\u001b[33;43m\"\u001b[39;49m\u001b[43m,\u001b[49m\u001b[43m \u001b[49m\u001b[43m*\u001b[49m\u001b[43m*\u001b[49m\u001b[43mcheck_X_params\u001b[49m\u001b[43m)\u001b[49m\n\u001b[32m   2957\u001b[39m \u001b[38;5;28;01mif\u001b[39;00m \u001b[33m\"\u001b[39m\u001b[33mestimator\u001b[39m\u001b[33m\"\u001b[39m \u001b[38;5;129;01mnot\u001b[39;00m \u001b[38;5;129;01min\u001b[39;00m check_y_params:\n\u001b[32m   2958\u001b[39m     check_y_params = {**default_check_params, **check_y_params}\n",
      "\u001b[36mFile \u001b[39m\u001b[32m~/Developer/Python/Learning/Learning-ML---1/myevn/lib/python3.13/site-packages/sklearn/utils/validation.py:1093\u001b[39m, in \u001b[36mcheck_array\u001b[39m\u001b[34m(array, accept_sparse, accept_large_sparse, dtype, order, copy, force_writeable, force_all_finite, ensure_all_finite, ensure_non_negative, ensure_2d, allow_nd, ensure_min_samples, ensure_min_features, estimator, input_name)\u001b[39m\n\u001b[32m   1086\u001b[39m         \u001b[38;5;28;01melse\u001b[39;00m:\n\u001b[32m   1087\u001b[39m             msg = (\n\u001b[32m   1088\u001b[39m                 \u001b[33mf\u001b[39m\u001b[33m\"\u001b[39m\u001b[33mExpected 2D array, got 1D array instead:\u001b[39m\u001b[38;5;130;01m\\n\u001b[39;00m\u001b[33marray=\u001b[39m\u001b[38;5;132;01m{\u001b[39;00marray\u001b[38;5;132;01m}\u001b[39;00m\u001b[33m.\u001b[39m\u001b[38;5;130;01m\\n\u001b[39;00m\u001b[33m\"\u001b[39m\n\u001b[32m   1089\u001b[39m                 \u001b[33m\"\u001b[39m\u001b[33mReshape your data either using array.reshape(-1, 1) if \u001b[39m\u001b[33m\"\u001b[39m\n\u001b[32m   1090\u001b[39m                 \u001b[33m\"\u001b[39m\u001b[33myour data has a single feature or array.reshape(1, -1) \u001b[39m\u001b[33m\"\u001b[39m\n\u001b[32m   1091\u001b[39m                 \u001b[33m\"\u001b[39m\u001b[33mif it contains a single sample.\u001b[39m\u001b[33m\"\u001b[39m\n\u001b[32m   1092\u001b[39m             )\n\u001b[32m-> \u001b[39m\u001b[32m1093\u001b[39m         \u001b[38;5;28;01mraise\u001b[39;00m \u001b[38;5;167;01mValueError\u001b[39;00m(msg)\n\u001b[32m   1095\u001b[39m \u001b[38;5;28;01mif\u001b[39;00m dtype_numeric \u001b[38;5;129;01mand\u001b[39;00m \u001b[38;5;28mhasattr\u001b[39m(array.dtype, \u001b[33m\"\u001b[39m\u001b[33mkind\u001b[39m\u001b[33m\"\u001b[39m) \u001b[38;5;129;01mand\u001b[39;00m array.dtype.kind \u001b[38;5;129;01min\u001b[39;00m \u001b[33m\"\u001b[39m\u001b[33mUSV\u001b[39m\u001b[33m\"\u001b[39m:\n\u001b[32m   1096\u001b[39m     \u001b[38;5;28;01mraise\u001b[39;00m \u001b[38;5;167;01mValueError\u001b[39;00m(\n\u001b[32m   1097\u001b[39m         \u001b[33m\"\u001b[39m\u001b[33mdtype=\u001b[39m\u001b[33m'\u001b[39m\u001b[33mnumeric\u001b[39m\u001b[33m'\u001b[39m\u001b[33m is not compatible with arrays of bytes/strings.\u001b[39m\u001b[33m\"\u001b[39m\n\u001b[32m   1098\u001b[39m         \u001b[33m\"\u001b[39m\u001b[33mConvert your data to numeric values explicitly instead.\u001b[39m\u001b[33m\"\u001b[39m\n\u001b[32m   1099\u001b[39m     )\n",
      "\u001b[31mValueError\u001b[39m: Expected 2D array, got 1D array instead:\narray=[3.5 1.4 0.2 4.9 3.  1.4 0.2 4.7 3.2 1.3 0.2 4.6 3.1 1.5 0.2 5.  3.6 1.4\n 0.2 5.4 3.9 1.7 0.4 4.6 3.4 1.4 0.3 5.  3.4 1.5 0.2 4.4 2.9 1.4 0.2 4.9\n 3.1 1.5 0.1 5.4 3.7 1.5 0.2 4.8 3.4 1.6 0.2 4.8 3.  0.1 4.3 3.  1.1 0.1\n 5.8 4.  1.2 0.2 5.7 4.4 1.5 0.4 5.4 3.9 1.3 0.4 5.1 3.5 1.4 0.3 5.7 3.8\n 1.7 0.3 5.1 3.8 1.5 0.3 5.4 3.4 1.7 0.2 5.1 3.7 1.5 0.4 4.6 3.6 1.  0.2\n 5.1 3.3 1.7 0.5 4.8 3.4 1.9 0.2 3.  1.6 0.2 5.  3.4 1.6 0.4 5.2 3.5 1.5\n 0.2 5.2 3.4 1.4 0.2 4.7 3.2 1.6 0.2 4.8 3.1 1.6 0.2 5.4 3.4 1.5 0.4 5.2\n 4.1 1.5 0.1 5.5 4.2 1.4 0.2 4.9 3.1 1.5 0.2 5.  3.2 1.2 0.2 5.5 3.5 1.3\n 0.2 4.9 3.6 1.4 0.1 4.4 3.  1.3 0.2 5.1 3.4 1.5 0.2 5.  3.5 1.3 0.3 4.5\n 2.3 1.3 0.3 4.4 3.2 1.3 0.2 5.  3.5 1.6 0.6 5.1 3.8 1.9 0.4 4.8 3.  1.4\n 0.3 5.1 3.8 1.6 0.2 4.6 3.2 1.4 0.2 5.3 3.7 1.5 0.2 5.  3.3 1.4 0.2 7.\n 3.2 4.7 1.4 6.4 3.2 4.5 1.5 6.9 3.1 4.9 1.5 5.5 2.3 4.  1.3 6.5 2.8 4.6\n 1.5 5.7 2.8 4.5 1.3 6.3 3.3 4.7 1.6 4.9 2.4 3.3 1.  6.6 2.9 4.6 1.3 5.2\n 2.7 3.9 1.4 5.  2.  3.5 1.  5.9 3.  4.2 1.5 6.  2.2 4.  1.  6.1 2.9 4.7\n 1.4 5.6 2.9 3.6 1.3 6.7 3.1 4.4 1.4 5.6 3.  4.5 1.5 5.8 2.7 4.1 1.  6.2\n 2.2 4.5 1.5 5.6 2.5 3.9 1.1 5.9 3.2 4.8 1.8 6.1 2.8 4.  1.3 6.3 2.5 4.9\n 1.5 6.1 2.8 4.7 1.2 6.4 2.9 4.3 1.3 6.6 3.  4.4 1.4 6.8 2.8 4.8 1.4 6.7\n 3.  5.  1.7 6.  2.9 4.5 1.5 5.7 2.6 3.5 1.  5.5 2.4 3.8 1.1 5.5 2.4 3.7\n 1.  5.8 2.7 3.9 1.2 6.  2.7 5.1 1.6 5.4 3.  4.5 1.5 6.  3.4 4.5 1.6 6.7\n 3.1 4.7 1.5 6.3 2.3 4.4 1.3 5.6 3.  4.1 1.3 5.5 2.5 4.  1.3 5.5 2.6 4.4\n 1.2 6.1 3.  4.6 1.4 5.8 2.6 4.  1.2 5.  2.3 3.3 1.  5.6 2.7 4.2 1.3 5.7\n 3.  4.2 1.2 5.7 2.9 4.2 1.3 6.2 2.9 4.3 1.3 5.1 2.5 3.  1.1 5.7 2.8 4.1\n 1.3 6.3 3.3 6.  2.5 5.8 2.7 5.1 1.9 7.1 3.  5.9 2.1 6.3 2.9 5.6 1.8 6.5\n 3.  5.8 2.2 7.6 3.  6.6 2.1 4.9 2.5 4.5 1.7 7.3 2.9 6.3 1.8 6.7 2.5 5.8\n 1.8 7.2 3.6 6.1 2.5 6.5 3.2 5.1 2.  6.4 2.7 5.3 1.9 6.8 3.  5.5 2.1 5.7\n 2.5 5.  2.  5.8 2.8 5.1 2.4 6.4 3.2 5.3 2.3 6.5 3.  5.5 1.8 7.7 3.8 6.7\n 2.2 7.7 2.6 6.9 2.3 6.  2.2 5.  1.5 6.9 3.2 5.7 2.3 5.6 2.8 4.9 2.  7.7\n 2.8 6.7 2.  6.3 2.7 4.9 1.8 6.7 3.3 5.7 2.1 7.2 3.2 6.  1.8 6.2 2.8 4.8\n 1.8 6.1 3.  4.9 1.8 6.4 2.8 5.6 2.1 7.2 3.  5.8 1.6 7.4 2.8 6.1 1.9 7.9\n 3.8 6.4 2.  6.4 2.8 5.6 2.2 6.3 2.8 5.1 1.5 6.1 2.6 5.6 1.4 7.7 3.  6.1\n 2.3 6.3 3.4 5.6 2.4 6.4 3.1 5.5 1.8 6.  3.  4.8 1.8 6.9 3.1 5.4 2.1 6.7\n 3.1 5.6 2.4 6.9 3.1 5.1 2.3 5.8 2.7 5.1 1.9 6.8 3.2 5.9 2.3 6.7 3.3 5.7\n 2.5 6.7 3.  5.2 2.3 6.3 2.5 5.  1.9 6.5 3.  5.2 2.  6.2 3.4 5.4 2.3 5.9\n 3.  5.1 1.8].\nReshape your data either using array.reshape(-1, 1) if your data has a single feature or array.reshape(1, -1) if it contains a single sample."
     ]
    }
   ],
   "source": [
    "clf = tree.DecisionTreeClassifier()\n",
    "clf.fit(train_data, train_target)"
   ]
  }
 ],
 "metadata": {
  "kernelspec": {
   "display_name": "myevn",
   "language": "python",
   "name": "python3"
  },
  "language_info": {
   "codemirror_mode": {
    "name": "ipython",
    "version": 3
   },
   "file_extension": ".py",
   "mimetype": "text/x-python",
   "name": "python",
   "nbconvert_exporter": "python",
   "pygments_lexer": "ipython3",
   "version": "3.13.2"
  }
 },
 "nbformat": 4,
 "nbformat_minor": 2
}
